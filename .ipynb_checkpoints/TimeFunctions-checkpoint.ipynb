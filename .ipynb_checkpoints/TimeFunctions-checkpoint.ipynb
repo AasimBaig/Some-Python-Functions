{
 "cells": [
  {
   "cell_type": "code",
   "execution_count": null,
   "metadata": {},
   "outputs": [],
   "source": [
    "# Python program to Find day of  \n",
    "# the week for a given date \n",
    "import calendar \n",
    "  \n",
    "def findDay(date): \n",
    "    day, month, year = (int(i) for i in date.split(' '))     \n",
    "    dayNumber = calendar.weekday(year, month, day) \n",
    "    days =[\"Monday\", \"Tuesday\", \"Wednesday\", \"Thursday\", \n",
    "                         \"Friday\", \"Saturday\", \"Sunday\"] \n",
    "    return (days[dayNumber])  \n",
    "date = '04 05 2015'\n",
    "print(findDay(date)) "
   ]
  }
 ],
 "metadata": {
  "kernelspec": {
   "display_name": "Python 3",
   "language": "python",
   "name": "python3"
  },
  "language_info": {
   "codemirror_mode": {
    "name": "ipython",
    "version": 3
   },
   "file_extension": ".py",
   "mimetype": "text/x-python",
   "name": "python",
   "nbconvert_exporter": "python",
   "pygments_lexer": "ipython3",
   "version": "3.6.6"
  }
 },
 "nbformat": 4,
 "nbformat_minor": 2
}
