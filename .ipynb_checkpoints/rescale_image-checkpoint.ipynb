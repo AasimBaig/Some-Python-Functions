{
 "cells": [
  {
   "cell_type": "code",
   "execution_count": null,
   "metadata": {},
   "outputs": [],
   "source": [
    "## rescaling image to lower resolution \n",
    "from PIL import Image\n",
    "import os\n",
    "import argparse\n",
    "def rescale_images(directory, size):\n",
    "    for img in os.listdir(directory):\n",
    "        im = Image.open(directory+img)\n",
    "        im_resized = im.resize(size, Image.ANTIALIAS)\n",
    "        im_resized.save(directory+img)"
   ]
  }
 ],
 "metadata": {
  "kernelspec": {
   "display_name": "Python 3",
   "language": "python",
   "name": "python3"
  },
  "language_info": {
   "codemirror_mode": {
    "name": "ipython",
    "version": 3
   },
   "file_extension": ".py",
   "mimetype": "text/x-python",
   "name": "python",
   "nbconvert_exporter": "python",
   "pygments_lexer": "ipython3",
   "version": "3.6.6"
  }
 },
 "nbformat": 4,
 "nbformat_minor": 2
}
